{
 "cells": [
  {
   "cell_type": "markdown",
   "metadata": {},
   "source": [
    "# Import modules"
   ]
  },
  {
   "cell_type": "code",
   "execution_count": 1,
   "metadata": {},
   "outputs": [],
   "source": [
    "# Import modules\n",
    "import matplotlib.pyplot as plt\n",
    "import numpy as np\n",
    "import pandas as pd\n"
   ]
  },
  {
   "cell_type": "markdown",
   "metadata": {},
   "source": [
    "# Change directory"
   ]
  },
  {
   "cell_type": "code",
   "execution_count": 2,
   "metadata": {},
   "outputs": [],
   "source": [
    "# root directory\n",
    "wdir = os.getcwd()"
   ]
  },
  {
   "cell_type": "code",
   "execution_count": 3,
   "metadata": {},
   "outputs": [
    {
     "data": {
      "text/plain": [
       "'h:\\\\My Drive\\\\MCED\\\\TAAC_VC_PROJECT\\\\ECMWF'"
      ]
     },
     "execution_count": 3,
     "metadata": {},
     "output_type": "execute_result"
    }
   ],
   "source": [
    "os.chdir(wdir)\n",
    "\n",
    "# check for extraction directories existence\n",
    "if not os.path.isdir('ECMWF'):\n",
    "    os.makedirs('ECMWF')\n",
    "\n",
    "ECMWF_dir = wdir + '/ECMWF'\n",
    "\n",
    "os.chdir(ECMWF_dir)\n",
    "\n",
    "os.getcwd()\n"
   ]
  },
  {
   "cell_type": "code",
   "execution_count": 4,
   "metadata": {},
   "outputs": [],
   "source": [
    "# References\n",
    "#  https://confluence.ecmwf.int/display/CKB/ERA5%3A+How+to+calculate+daily+total+precipitation"
   ]
  },
  {
   "cell_type": "markdown",
   "metadata": {},
   "source": [
    "# Region of interest"
   ]
  },
  {
   "cell_type": "code",
   "execution_count": 6,
   "metadata": {},
   "outputs": [],
   "source": [
    "# Range of lat/long\n",
    "\n",
    "west =  -9.07\n",
    "east =  -7\n",
    "south =  39.55\n",
    "north =  41"
   ]
  },
  {
   "cell_type": "markdown",
   "metadata": {},
   "source": [
    "# Download data"
   ]
  },
  {
   "cell_type": "code",
   "execution_count": 7,
   "metadata": {},
   "outputs": [],
   "source": [
    "# References\n",
    "# https://confluence.ecmwf.int/display/CKB/ERA5%3A+How+to+calculate+daily+total+precipitation\n",
    "# https://cds.climate.copernicus.eu/cdsapp#!/dataset/reanalysis-era5-land?tab=overview\n",
    "\n",
    "import cdsapi\n",
    "\n",
    "def donwloadECMWF(year, month = None):\n",
    "\n",
    "    if month == None:\n",
    "        fname = str(year) + '_T2m_tcc_tp.nc'\n",
    "\n",
    "        lmonth = [\n",
    "                    '01', '02', '03',\n",
    "                    '04', '05', '06',\n",
    "                    '07', '08', '09',\n",
    "                    '10', '11', '12'\n",
    "                ]\n",
    "    else:\n",
    "        fname = str(year) + \"{:02d}\".format(month) + '_T2m_tcc_tp.nc'\n",
    "        lmonth = [\"{:02d}\".format(month)]\n",
    "\n",
    "    if not os.path.isfile(fname):\n",
    "\n",
    "        c = cdsapi.Client()\n",
    "\n",
    "        c.retrieve(\n",
    "            'reanalysis-era5-single-levels',\n",
    "            {\n",
    "                'product_type': 'reanalysis',\n",
    "                'variable': [\n",
    "                '2m_temperature', 'total_cloud_cover', 'total_precipitation',\n",
    "                ],\n",
    "                'year': [\n",
    "                    year\n",
    "                ],\n",
    "                'month': lmonth\n",
    "                ,\n",
    "                'day': [\n",
    "                    '01', '02', '03',\n",
    "                    '04', '05', '06',\n",
    "                    '07', '08', '09',\n",
    "                    '10', '11', '12',\n",
    "                    '13', '14', '15',\n",
    "                    '16', '17', '18',\n",
    "                    '19', '20', '21',\n",
    "                    '22', '23', '24',\n",
    "                    '25', '26', '27',\n",
    "                    '28', '29', '30',\n",
    "                    '31',\n",
    "                ],\n",
    "                'time': [\n",
    "                    '00:00', '01:00', '02:00',\n",
    "                    '03:00', '04:00', '05:00',\n",
    "                    '06:00', '07:00', '08:00',\n",
    "                    '09:00', '10:00', '11:00',\n",
    "                    '12:00', '13:00', '14:00',\n",
    "                    '15:00', '16:00', '17:00',\n",
    "                    '18:00', '19:00', '20:00',\n",
    "                    '21:00', '22:00', '23:00',\n",
    "                ],\n",
    "                'area': [\n",
    "                    north, west, south, east,\n",
    "                ],\n",
    "                'grid':'0.05/0.05',\n",
    "                'format': 'netcdf',\n",
    "            },\n",
    "            fname)"
   ]
  },
  {
   "cell_type": "code",
   "execution_count": 8,
   "metadata": {},
   "outputs": [],
   "source": [
    "date_init= '1985-10-01'\n",
    "date_end = '1995-09-30'"
   ]
  },
  {
   "cell_type": "code",
   "execution_count": 9,
   "metadata": {},
   "outputs": [],
   "source": [
    "# year/month of dates\n",
    "y1 = int(date_init[0:4])\n",
    "m1 = int(date_init[5:7])\n",
    "y2 = int(date_end[0:4])\n",
    "m2 = int(date_end[5:7])\n",
    "\n",
    "nmonths = 13 - m1 + (y2 - y1 - 1) * 12 + m2\n",
    "\n",
    "nyears = y2 - y1 + 1\n",
    "# nmonths"
   ]
  },
  {
   "cell_type": "code",
   "execution_count": 10,
   "metadata": {},
   "outputs": [],
   "source": [
    "# change directory\n",
    "os.chdir(ECMWF_dir)"
   ]
  },
  {
   "cell_type": "code",
   "execution_count": 11,
   "metadata": {},
   "outputs": [
    {
     "name": "stderr",
     "output_type": "stream",
     "text": [
      "  0%|          | 0/7 [00:00<?, ?it/s]2022-10-30 15:01:40,769 INFO Welcome to the CDS\n",
      "2022-10-30 15:01:40,769 INFO Sending request to https://cds.climate.copernicus.eu/api/v2/resources/reanalysis-era5-single-levels\n",
      "2022-10-30 15:01:40,889 INFO Request is completed\n",
      "2022-10-30 15:01:40,889 INFO Downloading https://download-0016.copernicus-climate.eu/cache-compute-0016/cache/data4/adaptor.mars.internal-1667140250.406844-20722-17-3a6892b0-d64f-4ef2-bb43-ea018c3ab6a6.nc to 1989_T2m_tcc_tp.nc (63.2M)\n",
      "2022-10-30 15:02:08,827 INFO Download rate 2.3M/s\n",
      " 14%|█▍        | 1/7 [00:28<02:51, 28.58s/it]2022-10-30 15:02:08,979 INFO Welcome to the CDS\n",
      "2022-10-30 15:02:08,979 INFO Sending request to https://cds.climate.copernicus.eu/api/v2/resources/reanalysis-era5-single-levels\n",
      "2022-10-30 15:02:09,051 INFO Request is queued\n",
      "2022-10-30 15:02:10,125 INFO Request is running\n",
      "2022-10-30 15:26:31,218 INFO Request is completed\n",
      "2022-10-30 15:26:31,320 INFO Downloading https://download-0018.copernicus-climate.eu/cache-compute-0018/cache/data9/adaptor.mars.internal-1667143402.9078016-16651-2-fafb9334-3bed-402d-9b99-b6df445e5f20.nc to 1990_T2m_tcc_tp.nc (63.2M)\n",
      "2022-10-30 15:26:43,990 INFO Download rate 5M/s\n",
      " 29%|██▊       | 2/7 [25:03<1:13:17, 879.55s/it]2022-10-30 15:26:44,271 INFO Welcome to the CDS\n",
      "2022-10-30 15:26:44,271 INFO Sending request to https://cds.climate.copernicus.eu/api/v2/resources/reanalysis-era5-single-levels\n",
      "2022-10-30 15:26:44,333 INFO Request is queued\n",
      "2022-10-30 15:26:45,436 INFO Request is running\n",
      "2022-10-30 15:51:06,355 INFO Request is completed\n",
      "2022-10-30 15:51:06,358 INFO Downloading https://download-0004-clone.copernicus-climate.eu/cache-compute-0004/cache/data6/adaptor.mars.internal-1667144877.5284266-21467-17-a281683b-9fe7-4ee4-84c3-fd36843dd010.nc to 1991_T2m_tcc_tp.nc (63.2M)\n",
      "2022-10-30 15:51:26,146 INFO Download rate 3.2M/s\n",
      " 43%|████▎     | 3/7 [49:45<1:16:58, 1154.68s/it]2022-10-30 15:51:26,263 INFO Welcome to the CDS\n",
      "2022-10-30 15:51:26,263 INFO Sending request to https://cds.climate.copernicus.eu/api/v2/resources/reanalysis-era5-single-levels\n",
      "2022-10-30 15:51:26,343 INFO Request is queued\n",
      "2022-10-30 15:51:27,409 INFO Request is running\n",
      "2022-10-30 16:15:51,442 INFO Request is completed\n",
      "2022-10-30 16:15:51,488 INFO Downloading https://download-0011-clone.copernicus-climate.eu/cache-compute-0011/cache/data2/adaptor.mars.internal-1667146351.7501538-967-19-5efe0896-8b87-4ea0-a634-4039ae7794c9.nc to 1992_T2m_tcc_tp.nc (63.4M)\n",
      "2022-10-30 16:17:25,237 ERROR Download interupted: HTTPSConnectionPool(host='download-0011-clone.copernicus-climate.eu', port=443): Read timed out.\n",
      "2022-10-30 16:17:25,240 ERROR Download incomplete, downloaded 60937216 byte(s) out of 66444068\n",
      "2022-10-30 16:17:25,242 WARNING Sleeping 10 seconds\n",
      "2022-10-30 16:17:35,249 WARNING Resuming download at byte 60937216\n",
      "2022-10-30 16:17:56,283 WARNING Recovering from connection error [HTTPSConnectionPool(host='download-0011-clone.copernicus-climate.eu', port=443): Max retries exceeded with url: /cache-compute-0011/cache/data2/adaptor.mars.internal-1667146351.7501538-967-19-5efe0896-8b87-4ea0-a634-4039ae7794c9.nc (Caused by ConnectTimeoutError(<urllib3.connection.HTTPSConnection object at 0x00000159A9971870>, 'Connection to download-0011-clone.copernicus-climate.eu timed out. (connect timeout=60)'))], attemps 0 of 500\n",
      "2022-10-30 16:17:56,284 WARNING Retrying in 120 seconds\n",
      "2022-10-30 16:19:56,351 INFO Retrying now...\n",
      "2022-10-30 16:20:17,387 WARNING Recovering from connection error [HTTPSConnectionPool(host='download-0011-clone.copernicus-climate.eu', port=443): Max retries exceeded with url: /cache-compute-0011/cache/data2/adaptor.mars.internal-1667146351.7501538-967-19-5efe0896-8b87-4ea0-a634-4039ae7794c9.nc (Caused by ConnectTimeoutError(<urllib3.connection.HTTPSConnection object at 0x00000159A9971F30>, 'Connection to download-0011-clone.copernicus-climate.eu timed out. (connect timeout=60)'))], attemps 1 of 500\n",
      "2022-10-30 16:20:17,388 WARNING Retrying in 120 seconds\n",
      "2022-10-30 16:22:17,403 INFO Retrying now...\n",
      "2022-10-30 16:22:38,452 WARNING Recovering from connection error [HTTPSConnectionPool(host='download-0011-clone.copernicus-climate.eu', port=443): Max retries exceeded with url: /cache-compute-0011/cache/data2/adaptor.mars.internal-1667146351.7501538-967-19-5efe0896-8b87-4ea0-a634-4039ae7794c9.nc (Caused by ConnectTimeoutError(<urllib3.connection.HTTPSConnection object at 0x00000159A9971F60>, 'Connection to download-0011-clone.copernicus-climate.eu timed out. (connect timeout=60)'))], attemps 2 of 500\n",
      "2022-10-30 16:22:38,453 WARNING Retrying in 120 seconds\n",
      "2022-10-30 16:24:38,462 INFO Retrying now...\n",
      "2022-10-30 16:24:59,505 WARNING Recovering from connection error [HTTPSConnectionPool(host='download-0011-clone.copernicus-climate.eu', port=443): Max retries exceeded with url: /cache-compute-0011/cache/data2/adaptor.mars.internal-1667146351.7501538-967-19-5efe0896-8b87-4ea0-a634-4039ae7794c9.nc (Caused by ConnectTimeoutError(<urllib3.connection.HTTPSConnection object at 0x00000159A99726B0>, 'Connection to download-0011-clone.copernicus-climate.eu timed out. (connect timeout=60)'))], attemps 3 of 500\n",
      "2022-10-30 16:24:59,507 WARNING Retrying in 120 seconds\n",
      "2022-10-30 16:26:59,512 INFO Retrying now...\n",
      "2022-10-30 16:27:01,705 INFO Download rate 96.8K/s\n",
      " 57%|█████▋    | 4/7 [1:25:21<1:17:05, 1541.89s/it]2022-10-30 16:27:23,383 INFO Sending request to https://cds.climate.copernicus.eu/api/v2/resources/reanalysis-era5-single-levels\n",
      "2022-10-30 16:27:28,809 INFO Request is queued\n",
      "2022-10-30 16:27:29,877 INFO Request is running\n",
      "2022-10-30 16:51:50,692 INFO Request is completed\n",
      "2022-10-30 16:51:50,702 INFO Downloading https://download-0017.copernicus-climate.eu/cache-compute-0017/cache/data9/adaptor.mars.internal-1667148498.508061-7274-7-ac3419a3-089b-4d01-9f86-434871412ebe.nc to 1993_T2m_tcc_tp.nc (63.2M)\n",
      "2022-10-30 16:52:33,684 INFO Download rate 1.5M/s\n",
      " 71%|███████▏  | 5/7 [1:50:53<51:16, 1538.32s/it]  2022-10-30 16:52:33,764 INFO Welcome to the CDS\n",
      "2022-10-30 16:52:33,767 INFO Sending request to https://cds.climate.copernicus.eu/api/v2/resources/reanalysis-era5-single-levels\n",
      "2022-10-30 16:52:33,847 INFO Request is queued\n",
      "2022-10-30 16:52:34,919 INFO Request is running\n",
      "2022-10-30 17:14:56,840 INFO Request is completed\n",
      "2022-10-30 17:14:56,844 INFO Downloading https://download-0018.copernicus-climate.eu/cache-compute-0018/cache/data2/adaptor.mars.internal-1667149961.985044-20973-9-7dfbac5f-31ff-4ba8-bbc0-82a99974da30.nc to 1994_T2m_tcc_tp.nc (63.2M)\n",
      "2022-10-30 17:16:27,613 INFO Download rate 712.9K/s\n",
      " 86%|████████▌ | 6/7 [2:14:47<25:02, 1502.92s/it]2022-10-30 17:16:28,013 INFO Welcome to the CDS\n",
      "2022-10-30 17:16:28,016 INFO Sending request to https://cds.climate.copernicus.eu/api/v2/resources/reanalysis-era5-single-levels\n",
      "2022-10-30 17:16:28,102 INFO Request is queued\n",
      "2022-10-30 17:16:29,172 INFO Request is running\n",
      "2022-10-30 17:17:00,808 WARNING Recovering from connection error [('Connection aborted.', RemoteDisconnected('Remote end closed connection without response'))], attemps 0 of 500\n",
      "2022-10-30 17:17:00,809 WARNING Retrying in 120 seconds\n",
      "2022-10-30 17:19:00,814 INFO Retrying now...\n",
      "2022-10-30 17:39:09,355 INFO Request is completed\n",
      "2022-10-30 17:39:09,356 INFO Downloading https://download-0013-clone.copernicus-climate.eu/cache-compute-0013/cache/data5/adaptor.mars.internal-1667151389.4668396-15504-6-1975046e-dc0c-4138-a704-65896581d69d.nc to 1995_T2m_tcc_tp.nc (63.2M)\n",
      "2022-10-30 17:39:56,740 INFO Download rate 1.3M/s\n",
      "100%|██████████| 7/7 [2:38:16<00:00, 1356.64s/it]\n"
     ]
    }
   ],
   "source": [
    "from tqdm import tqdm\n",
    "\n",
    "# Loops over the months\n",
    "# for m in tqdm(range(nmonths)):\n",
    "#     year = y1 + (m1 + m - 1)//12\n",
    "#     month = 12 if (m1 + m)%12 == 0 else (m1 + m)%12\n",
    "#     # print(year, month)\n",
    "    \n",
    "#     # download data\n",
    "#     donwloadECMWF(year, month)\n",
    "\n",
    "\n",
    "# Loops over the years\n",
    "for year in tqdm(range(y1, y2 + 1)):\n",
    "    # print(year)\n",
    "    \n",
    "    # download data\n",
    "    donwloadECMWF(year)"
   ]
  }
 ],
 "metadata": {
  "kernelspec": {
   "display_name": "Python 3.10.6 ('rioxarray_env')",
   "language": "python",
   "name": "python3"
  },
  "language_info": {
   "codemirror_mode": {
    "name": "ipython",
    "version": 3
   },
   "file_extension": ".py",
   "mimetype": "text/x-python",
   "name": "python",
   "nbconvert_exporter": "python",
   "pygments_lexer": "ipython3",
   "version": "3.10.6"
  },
  "orig_nbformat": 4,
  "vscode": {
   "interpreter": {
    "hash": "cb5cc8dc666591958bd4b953015a5fe5d49844462c4264beefa4eccc23103060"
   }
  }
 },
 "nbformat": 4,
 "nbformat_minor": 2
}
